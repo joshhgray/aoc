{
 "cells": [
  {
   "cell_type": "markdown",
   "id": "ffcdbbf6",
   "metadata": {},
   "source": [
    "# Advent of Code - Day 2\n",
    "## part 1 - [complete]"
   ]
  },
  {
   "cell_type": "code",
   "execution_count": 77,
   "id": "666cfb9e",
   "metadata": {},
   "outputs": [
    {
     "name": "stdout",
     "output_type": "stream",
     "text": [
      "2683\n"
     ]
    }
   ],
   "source": [
    "with open('aoc2.txt', 'r') as file:\n",
    "    lines = file.readlines()\n",
    "\n",
    "valid_games_sum = 0\n",
    "\n",
    "for line in lines:\n",
    "    r = 0\n",
    "    g = 0\n",
    "    b = 0\n",
    "\n",
    "    line = line.replace(',', '')\n",
    "    line = line.replace(';', '')\n",
    "    line = line.replace(':', '  ')\n",
    "    \n",
    "    for index, element in enumerate(line.split()):\n",
    "        if element == 'green':\n",
    "            g_num = int(line.split()[index - 1])\n",
    "            if g_num > g:\n",
    "                g = g_num\n",
    "\n",
    "        if element == 'red':\n",
    "            r_num = int(line.split()[index - 1])\n",
    "            if r_num > r:\n",
    "                r = r_num\n",
    "        if element == 'blue':\n",
    "            b_num = int(line.split()[index - 1])\n",
    "            if b_num > b:\n",
    "                b = b_num\n",
    "\n",
    "\n",
    "    if r <= 12 and g <= 13 and b <= 14:\n",
    "        game_number = line[5:8]\n",
    "        valid_games_sum += int(game_number)\n",
    "\n",
    "print(valid_games_sum)"
   ]
  },
  {
   "cell_type": "markdown",
   "id": "6d62b6b8",
   "metadata": {},
   "source": [
    "## part 2 -"
   ]
  },
  {
   "cell_type": "code",
   "execution_count": 1,
   "id": "a0379da1",
   "metadata": {},
   "outputs": [
    {
     "name": "stdout",
     "output_type": "stream",
     "text": [
      "49710\n"
     ]
    }
   ],
   "source": [
    "with open('aoc2.txt', 'r') as file:\n",
    "    lines = file.readlines()\n",
    "\n",
    "sum_of_powers = 0\n",
    "\n",
    "for line in lines:\n",
    "    r = 0\n",
    "    g = 0\n",
    "    b = 0\n",
    "\n",
    "    line = line.replace(',', '')\n",
    "    line = line.replace(';', '')\n",
    "    line = line.replace(':', '  ')\n",
    "    \n",
    "    for index, element in enumerate(line.split()):\n",
    "        if element == 'green':\n",
    "            g_num = int(line.split()[index - 1])\n",
    "            if g_num > g:\n",
    "                g = g_num\n",
    "\n",
    "        if element == 'red':\n",
    "            r_num = int(line.split()[index - 1])\n",
    "            if r_num > r:\n",
    "                r = r_num\n",
    "        if element == 'blue':\n",
    "            b_num = int(line.split()[index - 1])\n",
    "            if b_num > b:\n",
    "                b = b_num\n",
    "\n",
    "\n",
    "    game_power = r * g * b\n",
    "    sum_of_powers += game_power\n",
    "print(sum_of_powers)"
   ]
  },
  {
   "cell_type": "code",
   "execution_count": null,
   "id": "ce744869",
   "metadata": {},
   "outputs": [],
   "source": []
  }
 ],
 "metadata": {
  "kernelspec": {
   "display_name": "Python 3 (ipykernel)",
   "language": "python",
   "name": "python3"
  },
  "language_info": {
   "codemirror_mode": {
    "name": "ipython",
    "version": 3
   },
   "file_extension": ".py",
   "mimetype": "text/x-python",
   "name": "python",
   "nbconvert_exporter": "python",
   "pygments_lexer": "ipython3",
   "version": "3.11.5"
  }
 },
 "nbformat": 4,
 "nbformat_minor": 5
}
