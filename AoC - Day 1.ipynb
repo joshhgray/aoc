{
 "cells": [
  {
   "cell_type": "markdown",
   "id": "3f43358e",
   "metadata": {},
   "source": [
    "# Advent of Code - Day 1 \n",
    "## part 1 - [complete]"
   ]
  },
  {
   "cell_type": "code",
   "execution_count": 3,
   "id": "62dce8a2",
   "metadata": {},
   "outputs": [],
   "source": [
    "import pandas as pd\n",
    "import numpy as np"
   ]
  },
  {
   "cell_type": "code",
   "execution_count": 4,
   "id": "3de390e4",
   "metadata": {},
   "outputs": [],
   "source": [
    "df = pd.read_csv('output.csv', header=None)"
   ]
  },
  {
   "cell_type": "code",
   "execution_count": 5,
   "id": "c46eaf5c",
   "metadata": {},
   "outputs": [],
   "source": [
    "row_list = df.iloc[0].tolist()"
   ]
  },
  {
   "cell_type": "code",
   "execution_count": 41,
   "id": "4c029c64",
   "metadata": {},
   "outputs": [
    {
     "name": "stdout",
     "output_type": "stream",
     "text": [
      "54951\n"
     ]
    }
   ],
   "source": [
    "sum = 0\n",
    "for line in row_list:\n",
    "    line_str = str(line)\n",
    "    digits = []\n",
    "    for char in line_str:\n",
    "        if char.isdigit():\n",
    "            digits.append(int(char))\n",
    "    if len(digits) == 0:\n",
    "        continue\n",
    "    elif len(digits) == 1:\n",
    "        combo_str = str(digits[0]) + str(digits[0])\n",
    "        combo_int = int(combo_str)\n",
    "        sum += combo_int\n",
    "    else:\n",
    "        combo_str = str(digits[0]) + str(digits[-1])\n",
    "        combo_int = int(combo_str)\n",
    "        sum += combo_int\n",
    "print(sum)"
   ]
  },
  {
   "cell_type": "markdown",
   "id": "a1e7fa46",
   "metadata": {},
   "source": [
    "## part 2 - [complete]"
   ]
  },
  {
   "cell_type": "code",
   "execution_count": 6,
   "id": "d3fa4505",
   "metadata": {},
   "outputs": [
    {
     "name": "stdout",
     "output_type": "stream",
     "text": [
      "55218\n"
     ]
    }
   ],
   "source": [
    "sum = 0\n",
    "for line in row_list:\n",
    "    line_str = str(line)\n",
    "    str_nums = ['one', 'two', 'three', 'four', 'five', 'six', 'seven', 'eight', 'nine']\n",
    "    str_ints = ['one1one','two2two','three3three','four4four','five5five','six6six','seven7seven','eight8eigth','nine9nine']\n",
    "    for index, num in enumerate(str_nums):\n",
    "        if num in line_str:\n",
    "            line_str = line_str.replace(num, str_ints[index])\n",
    "    digits = []\n",
    "    for char in line_str:\n",
    "        if char.isdigit():\n",
    "            digits.append(int(char))\n",
    "    if len(digits) == 0:\n",
    "        continue\n",
    "    elif len(digits) == 1:\n",
    "        combo_str = str(digits[0]) + str(digits[0])\n",
    "        combo_int = int(combo_str)\n",
    "        sum += combo_int\n",
    "    else:\n",
    "        combo_str = str(digits[0]) + str(digits[-1])\n",
    "        combo_int = int(combo_str)\n",
    "        sum += combo_int\n",
    "print(sum)"
   ]
  },
  {
   "cell_type": "code",
   "execution_count": null,
   "id": "eb8b88ba",
   "metadata": {},
   "outputs": [],
   "source": []
  }
 ],
 "metadata": {
  "kernelspec": {
   "display_name": "Python 3 (ipykernel)",
   "language": "python",
   "name": "python3"
  },
  "language_info": {
   "codemirror_mode": {
    "name": "ipython",
    "version": 3
   },
   "file_extension": ".py",
   "mimetype": "text/x-python",
   "name": "python",
   "nbconvert_exporter": "python",
   "pygments_lexer": "ipython3",
   "version": "3.11.5"
  }
 },
 "nbformat": 4,
 "nbformat_minor": 5
}
