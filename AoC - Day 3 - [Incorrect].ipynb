{
 "cells": [
  {
   "cell_type": "markdown",
   "id": "86fd3c43",
   "metadata": {},
   "source": [
    "# AoC - Day 3\n",
    "## part 1 - [incorrect]"
   ]
  },
  {
   "cell_type": "code",
   "execution_count": 114,
   "id": "8e7b01cd",
   "metadata": {},
   "outputs": [
    {
     "name": "stdout",
     "output_type": "stream",
     "text": [
      "448790\n"
     ]
    }
   ],
   "source": [
    "with open('aoc3.txt', 'r') as file:\n",
    "    lines = file.readlines()\n",
    "\n",
    "# make a list of each unique symbol\n",
    "not_symbol = '0 1 2 3 4 5 6 7 8 9 . \\n'\n",
    "symbol_list = []\n",
    "for index, line in enumerate(lines):\n",
    "    for element in line:\n",
    "        if element not in not_symbol:\n",
    "            symbol_list.append(element)         \n",
    "symbol_set = set(symbol_list)\n",
    "\n",
    "int_list = '0 1 2 3 4 5 6 7 8 9'\n",
    "sum = 0\n",
    "\n",
    "# loop through each line\n",
    "for line_index, line in enumerate(lines):\n",
    "    int_string = ''\n",
    "    \n",
    "    # loop through each element of line\n",
    "    for char_index, element in enumerate(line):\n",
    "        # if element is a number\n",
    "        if element in int_list:\n",
    "            # add first number to int_string\n",
    "            if int_string == '':\n",
    "                int_string = element\n",
    "            # add rest of numbers to int_string\n",
    "            else:\n",
    "                int_string = int_string + element\n",
    "                \n",
    "        # once we've reached the end of the number\n",
    "        if element not in int_list and int_string != '':\n",
    "            # symbol adjacency logic\n",
    "            \n",
    "            # check current line\n",
    "            if line[char_index] in symbol_set:\n",
    "                sum += int(int_string)\n",
    "            elif line[char_index - len(int_string) - 1] in symbol_set:\n",
    "                if char_index - len(int_string) - 1 > 0:\n",
    "                    sum += int(int_string)\n",
    "                    \n",
    "            # check previous line (except on first)\n",
    "            if lines[line_index] != 0:\n",
    "                for char in lines[line_index-1][char_index-len(int_string)-1:char_index]:\n",
    "                    if char in symbol_set:\n",
    "                        sum += int(int_string)\n",
    "                \n",
    "            # check next line (except on last)\n",
    "            if lines[line_index] != lines[len(lines) - 1]:\n",
    "                for char in lines[line_index+1][char_index-len(int_string)-1:char_index]:\n",
    "                    if char in symbol_set:\n",
    "                        sum += int(int_string)\n",
    "            int_string = ''\n",
    "            \n",
    "print(sum)"
   ]
  },
  {
   "cell_type": "code",
   "execution_count": null,
   "id": "62cba529",
   "metadata": {},
   "outputs": [],
   "source": []
  }
 ],
 "metadata": {
  "kernelspec": {
   "display_name": "Python 3 (ipykernel)",
   "language": "python",
   "name": "python3"
  },
  "language_info": {
   "codemirror_mode": {
    "name": "ipython",
    "version": 3
   },
   "file_extension": ".py",
   "mimetype": "text/x-python",
   "name": "python",
   "nbconvert_exporter": "python",
   "pygments_lexer": "ipython3",
   "version": "3.11.5"
  }
 },
 "nbformat": 4,
 "nbformat_minor": 5
}
